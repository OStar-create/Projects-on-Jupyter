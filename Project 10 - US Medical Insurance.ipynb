{
 "cells": [
  {
   "cell_type": "markdown",
   "metadata": {},
   "source": [
    "# U.S. Medical Insurance Costs"
   ]
  },
  {
   "cell_type": "code",
   "execution_count": 2,
   "metadata": {},
   "outputs": [],
   "source": [
    "#Goals to achieve in this exercise:\n",
    "\n",
    "#1 - find the average age and bmi of both women and men\n",
    "\n",
    "#2 - state where most of the people are from\n",
    "\n",
    "#3 - find the average and median for how much more smoking adds to health insurance"
   ]
  },
  {
   "cell_type": "code",
   "execution_count": 26,
   "metadata": {},
   "outputs": [],
   "source": [
    "import csv"
   ]
  },
  {
   "cell_type": "code",
   "execution_count": 28,
   "metadata": {},
   "outputs": [],
   "source": [
    "#tables of each unique dp in the insurance doc\n",
    "\n",
    "age = []\n",
    "sex = []\n",
    "bmi = []\n",
    "children = []\n",
    "smoker = []\n",
    "region = []\n",
    "charges = []"
   ]
  },
  {
   "cell_type": "code",
   "execution_count": 38,
   "metadata": {},
   "outputs": [],
   "source": [
    "with open('insurance.csv', newline = '') as insurance:\n",
    "    insurance_reader = csv.DictReader(insurance)\n",
    "    for row in insurance_reader:\n",
    "        age.append(row['age'])\n",
    "        sex.append(row['sex'])\n",
    "        bmi.append(row['bmi'])\n",
    "        children.append(row['children'])\n",
    "        smoker.append(row['smoker'])\n",
    "        region.append(row['region'])\n",
    "        charges.append(row['charges'])"
   ]
  },
  {
   "cell_type": "code",
   "execution_count": 71,
   "metadata": {},
   "outputs": [
    {
     "name": "stdout",
     "output_type": "stream",
     "text": [
      "39.21\n"
     ]
    }
   ],
   "source": [
    "def average_age(list_of_ages):\n",
    "    count = 0\n",
    "    for age in list_of_ages:\n",
    "        count += int(age)\n",
    "    rounded_age = round(count / len(list_of_ages), 2)\n",
    "    return rounded_age\n",
    "average_age = average_age(age)\n",
    "print(average_age)"
   ]
  },
  {
   "cell_type": "code",
   "execution_count": 87,
   "metadata": {},
   "outputs": [
    {
     "name": "stdout",
     "output_type": "stream",
     "text": [
      "30.66\n"
     ]
    }
   ],
   "source": [
    "def average_bmi (list_of_bmis):\n",
    "    count = 0\n",
    "    for bmi in list_of_bmis:\n",
    "        count += float(bmi)\n",
    "    rounded_bmi = round(count / len(list_of_bmis), 2)\n",
    "    return rounded_bmi\n",
    "average_bmi = average_bmi(bmi)\n",
    "print(average_bmi)"
   ]
  },
  {
   "cell_type": "code",
   "execution_count": 89,
   "metadata": {},
   "outputs": [
    {
     "name": "stdout",
     "output_type": "stream",
     "text": [
      "The average age of patients is 39.21 with a bmi of 30.66\n"
     ]
    }
   ],
   "source": [
    "def average_age_and_bmi():\n",
    "    return (f'The average age of patients is {average_age} with a bmi of {average_bmi}')\n",
    "\n",
    "average_age_and_bmi = average_age_and_bmi()\n",
    "print(average_age_and_bmi)"
   ]
  },
  {
   "cell_type": "code",
   "execution_count": 178,
   "metadata": {},
   "outputs": [
    {
     "name": "stdout",
     "output_type": "stream",
     "text": [
      "the average age of males is 38.92 with a bmi of 30.94\n",
      "the average age of females is 39.5 with a bmi of 30.38\n"
     ]
    }
   ],
   "source": [
    "def average_age_and_bmi_of_specific_gender(list_of_ages, list_of_bmis, sex, keyword):\n",
    "    zipped_list = list(zip(list_of_ages, list_of_bmis, sex))\n",
    "    age = 0\n",
    "    bmi = 0\n",
    "    num_of_man = 0\n",
    "    age_2 = 0\n",
    "    bmi_2 = 0\n",
    "    num_of_woman = 0\n",
    "    \n",
    "    for data in zipped_list:\n",
    "        if keyword == data[2]:\n",
    "            age += int(data[0])\n",
    "            bmi += float(data[1])\n",
    "            num_of_man+= 1\n",
    "        else:\n",
    "            age_2 += int(data[0])\n",
    "            bmi_2 += float(data[1])\n",
    "            num_of_woman += 1\n",
    "            \n",
    "    return f'the average age of males is {round(age/num_of_man, 2)} with a bmi of {round(bmi/num_of_man, 2)}', f'the average age of females is {round(age_2/num_of_woman, 2)} with a bmi of {round(bmi_2/num_of_woman, 2)}'\n",
    "            \n",
    "    \n",
    "  \n",
    "average_man, average_woman = average_age_and_bmi_of_specific_gender(age, bmi, sex, \"male\")\n",
    "print(average_man)\n",
    "print(average_woman)"
   ]
  },
  {
   "cell_type": "code",
   "execution_count": 247,
   "metadata": {},
   "outputs": [
    {
     "name": "stdout",
     "output_type": "stream",
     "text": [
      " People from the northeast account for 324 amount of the total people \n",
      " People from the northwest account for 325 amount of the total people \n"
     ]
    }
   ],
   "source": [
    "def where_are_people_from(keyword):\n",
    "    region_dict = {loc:0 for loc in region}\n",
    "    for loc in region:\n",
    "        if loc in region_dict:\n",
    "            region_dict[loc] += 1\n",
    "    if keyword in region_dict:\n",
    "        return f' People from the {keyword} account for {region_dict[keyword]} amount of the total people '\n",
    "            \n",
    "Northeast = where_are_people_from(\"northeast\")\n",
    "print(Northeast)\n",
    "Northwest = where_are_people_from(\"northwest\")\n",
    "print(Northwest)\n"
   ]
  },
  {
   "cell_type": "code",
   "execution_count": 237,
   "metadata": {},
   "outputs": [
    {
     "name": "stdout",
     "output_type": "stream",
     "text": [
      "{'southwest': 0, 'southeast': 0, 'northwest': 0, 'northeast': 0}\n",
      "{'southwest': 325, 'southeast': 364, 'northwest': 325, 'northeast': 324}\n"
     ]
    }
   ],
   "source": [
    "region_dict = {loc:0 for loc in region}\n",
    "print(region_dict)\n",
    "for loc in region:\n",
    "    if loc in region_dict:\n",
    "        region_dict[loc] += 1\n",
    "print(region_dict)\n",
    "        \n"
   ]
  },
  {
   "cell_type": "code",
   "execution_count": null,
   "metadata": {},
   "outputs": [],
   "source": [
    "#Making it better doing classes"
   ]
  },
  {
   "cell_type": "code",
   "execution_count": 282,
   "metadata": {},
   "outputs": [
    {
     "name": "stdout",
     "output_type": "stream",
     "text": [
      "The average cost of male health insurance is 1347823.4\n",
      "The average cost of female health insurance is 1188723.03\n"
     ]
    }
   ],
   "source": [
    "class Insurance:\n",
    "    def __init__(self, patient_age, patient_sex, patient_bmi, patient_children, patient_smoker, patient_region, patient_charges):\n",
    "        self.patient_age = patient_age\n",
    "        self.patient_sex = patient_sex\n",
    "        self.patient_bmi = patient_bmi\n",
    "        self.patient_children = patient_children\n",
    "        self.patient_smoker = patient_smoker\n",
    "        self.patient_region = patient_region\n",
    "        self.patient_charges = patient_charges\n",
    "        self.combined = list(zip(self.patient_age, self.patient_sex, self.patient_bmi, self.patient_children, self.patient_smoker, self.patient_region, self.patient_charges))\n",
    "\n",
    "\n",
    "    def insurance_per_gender(self, gender):\n",
    "        total_m = 0\n",
    "        total_f = 0\n",
    "        for data in self.combined:\n",
    "            if data[1] == gender:\n",
    "                total_m += float(data[-1])\n",
    "        print(f'The average cost of male health insurance is {round(total_m/ len(data), 2)}')\n",
    "        for data in self.combined:\n",
    "            if not data[1] == gender:\n",
    "                total_f += float(data[-1])\n",
    "        print(f'The average cost of female health insurance is {round(total_f/ len(data), 2)}')\n",
    "Patient_data = Insurance(age, sex, bmi, children, smoker, region, charges)\n",
    "Patient_data.insurance_per_gender(\"male\")\n"
   ]
  },
  {
   "cell_type": "code",
   "execution_count": null,
   "metadata": {},
   "outputs": [],
   "source": []
  }
 ],
 "metadata": {
  "kernelspec": {
   "display_name": "Python 3 (ipykernel)",
   "language": "python",
   "name": "python3"
  },
  "language_info": {
   "codemirror_mode": {
    "name": "ipython",
    "version": 3
   },
   "file_extension": ".py",
   "mimetype": "text/x-python",
   "name": "python",
   "nbconvert_exporter": "python",
   "pygments_lexer": "ipython3",
   "version": "3.12.4"
  }
 },
 "nbformat": 4,
 "nbformat_minor": 4
}
